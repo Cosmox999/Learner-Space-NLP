{
  "nbformat": 4,
  "nbformat_minor": 0,
  "metadata": {
    "colab": {
      "provenance": [],
      "authorship_tag": "ABX9TyOO7AkK1y0fTtcJXd6sitGe"
    },
    "kernelspec": {
      "name": "python3",
      "display_name": "Python 3"
    },
    "language_info": {
      "name": "python"
    }
  },
  "cells": [
    {
      "cell_type": "markdown",
      "source": [
        "**PROBELM 1**"
      ],
      "metadata": {
        "id": "FHr91IhFSxAo"
      }
    },
    {
      "cell_type": "markdown",
      "source": [
        "Generating an array of size (5,4) with random integers from 1 to 50"
      ],
      "metadata": {
        "id": "_NkNRcJBILqp"
      }
    },
    {
      "cell_type": "code",
      "execution_count": null,
      "metadata": {
        "colab": {
          "base_uri": "https://localhost:8080/"
        },
        "id": "ZSCAPkJlFcgm",
        "outputId": "48a96223-facc-4544-8157-1848af538040"
      },
      "outputs": [
        {
          "output_type": "execute_result",
          "data": {
            "text/plain": [
              "array([[45, 30, 33, 27],\n",
              "       [42, 11, 15, 11],\n",
              "       [10, 46, 32, 44],\n",
              "       [24, 40, 33, 47],\n",
              "       [ 2, 27, 29, 27]])"
            ]
          },
          "metadata": {},
          "execution_count": 17
        }
      ],
      "source": [
        "import numpy as np\n",
        "arr = np.random.randint(1, 51, size=(5,4))\n",
        "arr"
      ]
    },
    {
      "cell_type": "markdown",
      "source": [
        "Returns maximum of the row for all rows"
      ],
      "metadata": {
        "id": "8_VkeisYLYAh"
      }
    },
    {
      "cell_type": "code",
      "source": [
        "for i in range(5):\n",
        "  max = 0\n",
        "  for j in range(4):\n",
        "    if arr[i][j] > max:\n",
        "      max = arr[i][j]\n",
        "  print(max)"
      ],
      "metadata": {
        "colab": {
          "base_uri": "https://localhost:8080/"
        },
        "id": "icstrgN5IGCl",
        "outputId": "a736433b-b475-4caa-ab12-eb81467dd12e"
      },
      "execution_count": null,
      "outputs": [
        {
          "output_type": "stream",
          "name": "stdout",
          "text": [
            "47\n",
            "45\n",
            "39\n",
            "36\n",
            "46\n"
          ]
        }
      ]
    },
    {
      "cell_type": "markdown",
      "source": [
        "Return an array of elements less than or equal to mean of elements of given array\n"
      ],
      "metadata": {
        "id": "WtGUB1hRNiD6"
      }
    },
    {
      "cell_type": "code",
      "source": [
        "arr.mean()\n",
        "brr = arr[arr <= arr.mean()]\n",
        "brr"
      ],
      "metadata": {
        "colab": {
          "base_uri": "https://localhost:8080/"
        },
        "id": "ZptbO04ZJKzt",
        "outputId": "28d8f215-d6a0-4f62-839a-7dcafc1153a4"
      },
      "execution_count": null,
      "outputs": [
        {
          "output_type": "execute_result",
          "data": {
            "text/plain": [
              "array([ 8, 26, 18, 16,  4, 17, 20, 14, 18, 18])"
            ]
          },
          "metadata": {},
          "execution_count": 11
        }
      ]
    },
    {
      "cell_type": "markdown",
      "source": [
        "return boundary elements of numpy array"
      ],
      "metadata": {
        "id": "S4ddkWbNScjY"
      }
    },
    {
      "cell_type": "code",
      "source": [
        "def numpy_boundary_traversal(matrix):\n",
        "  rows, cols = matrix.shape\n",
        "  list = []\n",
        "  for i in range(cols):\n",
        "    list.append(int(matrix[0][i]))\n",
        "  for i in range(1, rows):\n",
        "    list.append(int(matrix[i][cols-1]))\n",
        "  for i in range(cols-2, -1, -1):\n",
        "    list.append(int(matrix[rows-1][i]))\n",
        "  for i in range(rows-2, 0, -1):\n",
        "    list.append(int(matrix[i][0]))\n",
        "  return list\n",
        "\n",
        "print(numpy_boundary_traversal(arr))\n"
      ],
      "metadata": {
        "colab": {
          "base_uri": "https://localhost:8080/"
        },
        "id": "r_yUtrN4LkzV",
        "outputId": "08747171-de46-4437-e420-378336a38fa3"
      },
      "execution_count": null,
      "outputs": [
        {
          "output_type": "stream",
          "name": "stdout",
          "text": [
            "[45, 30, 33, 27, 11, 44, 47, 27, 29, 27, 2, 24, 10, 42]\n"
          ]
        }
      ]
    },
    {
      "cell_type": "markdown",
      "source": [
        "**PROBLEM 2**"
      ],
      "metadata": {
        "id": "G9lBNzwtTSB5"
      }
    },
    {
      "cell_type": "code",
      "source": [
        "array = np.random.uniform(low=0.0, high=10.0, size=20)\n",
        "print(array)"
      ],
      "metadata": {
        "colab": {
          "base_uri": "https://localhost:8080/"
        },
        "id": "o_am4zGBQ5XZ",
        "outputId": "de8a3b99-c64f-46cf-de9a-72f9f62e4265"
      },
      "execution_count": null,
      "outputs": [
        {
          "output_type": "stream",
          "name": "stdout",
          "text": [
            "[4.26939935 6.5710378  5.06142977 9.41021867 3.62064332 8.22038675\n",
            " 3.32356964 0.73788982 8.38232809 0.70772623 6.02131626 6.27869315\n",
            " 4.43564738 7.450164   5.56239837 7.11154803 3.34906963 3.57635344\n",
            " 5.99744158 6.53409428]\n"
          ]
        }
      ]
    },
    {
      "cell_type": "code",
      "source": [
        "np.round(array, 2)"
      ],
      "metadata": {
        "colab": {
          "base_uri": "https://localhost:8080/"
        },
        "id": "192OuuhDXnxH",
        "outputId": "4e5aa180-a287-4f3f-e564-2d9eedb38d2a"
      },
      "execution_count": null,
      "outputs": [
        {
          "output_type": "execute_result",
          "data": {
            "text/plain": [
              "array([4.27, 6.57, 5.06, 9.41, 3.62, 8.22, 3.32, 0.74, 8.38, 0.71, 6.02,\n",
              "       6.28, 4.44, 7.45, 5.56, 7.11, 3.35, 3.58, 6.  , 6.53])"
            ]
          },
          "metadata": {},
          "execution_count": 35
        }
      ]
    },
    {
      "cell_type": "code",
      "source": [
        "np.min(array), np.max(array), np.median(array)"
      ],
      "metadata": {
        "colab": {
          "base_uri": "https://localhost:8080/"
        },
        "id": "jy8EwS_6VErz",
        "outputId": "1792200d-e554-44b2-c43c-31534d388cc5"
      },
      "execution_count": null,
      "outputs": [
        {
          "output_type": "execute_result",
          "data": {
            "text/plain": [
              "(np.float64(0.7077262311185262),\n",
              " np.float64(9.410218667231328),\n",
              " np.float64(5.7799199749024694))"
            ]
          },
          "metadata": {},
          "execution_count": 34
        }
      ]
    },
    {
      "cell_type": "code",
      "source": [
        "for i in range(len(array)):\n",
        "  if array[i] < 5:\n",
        "    array[i] = array[i]**2\n",
        "\n",
        "array"
      ],
      "metadata": {
        "colab": {
          "base_uri": "https://localhost:8080/"
        },
        "id": "S3nWINowVPH9",
        "outputId": "352f28da-4917-4cde-c052-0f522b75ecb9"
      },
      "execution_count": null,
      "outputs": [
        {
          "output_type": "execute_result",
          "data": {
            "text/plain": [
              "array([18.22777084,  6.5710378 ,  5.06142977,  9.41021867, 13.10905807,\n",
              "        8.22038675, 11.04611518,  0.54448139,  8.38232809,  0.50087642,\n",
              "        6.02131626,  6.27869315, 19.67496771,  7.450164  ,  5.56239837,\n",
              "        7.11154803, 11.21626736, 12.79030394,  5.99744158,  6.53409428])"
            ]
          },
          "metadata": {},
          "execution_count": 37
        }
      ]
    },
    {
      "cell_type": "code",
      "source": [
        "def numpy_alternate_sort(array):\n",
        "  brr = array.copy()\n",
        "  crr = []\n",
        "  for i in range(int(len(array)/2)):\n",
        "    max = np.max(brr)\n",
        "    min = np.min(brr)\n",
        "    crr = np.append(crr, min)\n",
        "    crr = np.append(crr, max)\n",
        "    brr = np.delete(brr, np.where(brr == max))\n",
        "    brr = np.delete(brr, np.where(brr == min))\n",
        "  return crr\n",
        "\n",
        "print(numpy_alternate_sort(array))\n"
      ],
      "metadata": {
        "colab": {
          "base_uri": "https://localhost:8080/"
        },
        "id": "6iRqglDHW7g-",
        "outputId": "4ac509bf-00f2-4553-8c94-88dbd87e58bc"
      },
      "execution_count": null,
      "outputs": [
        {
          "output_type": "stream",
          "name": "stdout",
          "text": [
            "[ 0.50087642 19.67496771  0.54448139 18.22777084  5.06142977 13.10905807\n",
            "  5.56239837 12.79030394  5.99744158 11.21626736  6.02131626 11.04611518\n",
            "  6.27869315  9.41021867  6.53409428  8.38232809  6.5710378   8.22038675\n",
            "  7.11154803  7.450164  ]\n"
          ]
        }
      ]
    },
    {
      "cell_type": "markdown",
      "source": [
        "**Problem 3**"
      ],
      "metadata": {
        "id": "MueNu64Ymnvv"
      }
    },
    {
      "cell_type": "code",
      "source": [
        "import pandas as pd\n",
        "import numpy as np\n",
        "\n",
        "\n",
        "names = ['Alice', 'Bob', 'Charlie', 'David', 'Eve', 'Frank', 'Grace', 'Hannah', 'Ivy', 'Jack']\n",
        "subjects = ['Math', 'Science', 'Math', 'English', 'Science', 'English', 'Math', 'Science', 'English', 'Math']\n",
        "scores = np.random.randint(50, 101, size=10)\n",
        "\n",
        "df = pd.DataFrame({\n",
        "    'Name': names,\n",
        "    'Subject': subjects,\n",
        "    'Score': scores,\n",
        "    'Grade': ''\n",
        "})\n",
        "\n",
        "\n",
        "def assign_grade(score):\n",
        "    if score >= 90:\n",
        "        return 'A'\n",
        "    elif score >= 80:\n",
        "        return 'B'\n",
        "    elif score >= 70:\n",
        "        return 'C'\n",
        "    elif score >= 60:\n",
        "        return 'D'\n",
        "    else:\n",
        "        return 'F'\n",
        "\n",
        "df['Grade'] = df['Score'].apply(assign_grade)\n",
        "\n",
        "sorted_df = df.sort_values(by='Score', ascending=False)\n",
        "print(\"Sorted DataFrame:\\n\", sorted_df)\n",
        "\n",
        "avg_scores = df.groupby('Subject')['Score'].mean()\n",
        "print(\"\\nAverage Scores by Subject:\\n\", avg_scores)\n",
        "\n",
        "def pandas_filter_pass(dataframe):\n",
        "    return dataframe[dataframe['Grade'].isin(['A', 'B'])]\n",
        "\n",
        "passed_students = pandas_filter_pass(df)\n",
        "print(\"\\nStudents with Grade A or B:\\n\", passed_students)\n"
      ],
      "metadata": {
        "colab": {
          "base_uri": "https://localhost:8080/"
        },
        "id": "DdgYMRfPa2XC",
        "outputId": "ca116279-fb9c-45b7-9e7e-5bd9dd7341d7"
      },
      "execution_count": 1,
      "outputs": [
        {
          "output_type": "stream",
          "name": "stdout",
          "text": [
            "Sorted DataFrame:\n",
            "       Name  Subject  Score Grade\n",
            "2  Charlie     Math     90     A\n",
            "8      Ivy  English     87     B\n",
            "1      Bob  Science     83     B\n",
            "0    Alice     Math     83     B\n",
            "6    Grace     Math     73     C\n",
            "9     Jack     Math     66     D\n",
            "5    Frank  English     65     D\n",
            "7   Hannah  Science     65     D\n",
            "4      Eve  Science     58     F\n",
            "3    David  English     57     F\n",
            "\n",
            "Average Scores by Subject:\n",
            " Subject\n",
            "English    69.666667\n",
            "Math       78.000000\n",
            "Science    68.666667\n",
            "Name: Score, dtype: float64\n",
            "\n",
            "Students with Grade A or B:\n",
            "       Name  Subject  Score Grade\n",
            "0    Alice     Math     83     B\n",
            "1      Bob  Science     83     B\n",
            "2  Charlie     Math     90     A\n",
            "8      Ivy  English     87     B\n"
          ]
        }
      ]
    },
    {
      "cell_type": "markdown",
      "source": [
        "**Problem 4**"
      ],
      "metadata": {
        "id": "custFm3BpwfS"
      }
    },
    {
      "cell_type": "code",
      "source": [
        "import pandas as pd\n",
        "import numpy as np\n",
        "from sklearn.feature_extraction.text import CountVectorizer\n",
        "from sklearn.model_selection import train_test_split\n",
        "from sklearn.naive_bayes import MultinomialNB\n",
        "from sklearn.metrics import accuracy_score\n",
        "import random\n",
        "\n",
        "positive_reviews = [\n",
        "    \"Amazing movie!\", \"Loved it!\", \"Fantastic story and great acting.\",\n",
        "    \"Best film of the year.\", \"Heartwarming and well directed.\",\n",
        "    \"Superb!\", \"A must-watch!\", \"Great plot and performance.\",\n",
        "    \"Incredible visuals.\", \"Wonderful experience.\", \"Beautifully made.\",\n",
        "    \"Highly recommended.\", \"I enjoyed every moment.\", \"Really entertaining.\",\n",
        "    \"Masterpiece!\", \"Terrific work.\", \"Outstanding movie.\",\n",
        "    \"Truly inspiring.\", \"Powerful message.\", \"A cinematic gem.\",\n",
        "    \"Top notch!\", \"Delightful and engaging.\", \"Absolutely loved it.\",\n",
        "    \"Great character development.\", \"Emotionally moving.\",\n",
        "    \"Fascinating and unique.\", \"Bravo!\", \"An instant classic.\",\n",
        "    \"Great script and direction.\", \"Totally worth watching.\",\n",
        "    \"A real joy to watch.\", \"Intense and beautiful.\",\n",
        "    \"Loved the cinematography.\", \"Excellent pacing.\",\n",
        "    \"A beautiful story told well.\", \"Gripping and emotional.\",\n",
        "    \"Perfectly executed.\", \"Mind-blowing experience.\",\n",
        "    \"One of the best!\", \"Oscar-worthy!\", \"Well acted and emotional.\",\n",
        "    \"Great film with meaning.\", \"Touching and memorable.\",\n",
        "    \"Fantastic soundtrack.\", \"Solid performances.\",\n",
        "    \"Full of heart.\", \"Loved the ending.\",\n",
        "    \"Fun and uplifting.\", \"Impressive work.\", \"Thought-provoking.\",\n",
        "    \"Stunning and emotional.\"\n",
        "]\n",
        "\n",
        "negative_reviews = [\n",
        "    \"Terrible movie.\", \"Hated it.\", \"Worst film ever.\",\n",
        "    \"Poorly directed.\", \"Awful acting.\", \"Boring and slow.\",\n",
        "    \"Not worth watching.\", \"Horrible plot.\", \"Disappointing.\",\n",
        "    \"Bad experience.\", \"Lame story.\", \"So predictable.\",\n",
        "    \"Dull and uninteresting.\", \"Completely forgettable.\",\n",
        "    \"Waste of time.\", \"Very disappointing.\", \"Painful to watch.\",\n",
        "    \"Cringe-worthy.\", \"Full of clichés.\", \"The acting was bad.\",\n",
        "    \"No chemistry between actors.\", \"Fell asleep halfway.\",\n",
        "    \"Horribly written.\", \"Ridiculous dialogue.\",\n",
        "    \"Confusing and messy.\", \"Didn't enjoy it at all.\",\n",
        "    \"Too long and boring.\", \"Predictable plot.\",\n",
        "    \"Overrated trash.\", \"Bad cinematography.\",\n",
        "    \"Unrealistic and stupid.\", \"Lacked emotion.\",\n",
        "    \"Soundtrack was annoying.\", \"Unwatchable.\",\n",
        "    \"A total flop.\", \"Fails to deliver.\",\n",
        "    \"Lifeless performance.\", \"Mediocre at best.\",\n",
        "    \"Shallow and weak.\", \"Plot holes everywhere.\",\n",
        "    \"So much potential wasted.\", \"No effort put in.\",\n",
        "    \"Ruined a great idea.\", \"Just bad.\",\n",
        "    \"Lacked direction.\", \"Very poorly done.\",\n",
        "    \"Script was terrible.\", \"Not enjoyable.\",\n",
        "    \"Would not recommend.\", \"Garbage.\"\n",
        "]\n",
        "\n",
        "positive_reviews = positive_reviews[:50]\n",
        "negative_reviews = negative_reviews[:50]\n",
        "\n",
        "reviews = positive_reviews + negative_reviews\n",
        "sentiments = ['positive'] * 50 + ['negative'] * 50\n",
        "data = pd.DataFrame({'Review': reviews, 'Sentiment': sentiments})\n",
        "\n",
        "vectorizer = CountVectorizer(max_features=500, stop_words='english')\n",
        "X = vectorizer.fit_transform(data['Review'])\n",
        "y = data['Sentiment']\n",
        "\n",
        "X_train, X_test, y_train, y_test = train_test_split(X, y, test_size=0.2, random_state=42)\n",
        "\n",
        "model = MultinomialNB()\n",
        "model.fit(X_train, y_train)\n",
        "y_pred = model.predict(X_test)\n",
        "accuracy = accuracy_score(y_test, y_pred)\n",
        "print(f\"Accuracy on test set: {accuracy:.2f}\")\n",
        "\n",
        "def predict_review_sentiment(model, vectorizer, review):\n",
        "    review_vector = vectorizer.transform([review])\n",
        "    prediction = model.predict(review_vector)[0]\n",
        "    return prediction\n",
        "\n",
        "test_review = \"very poorly done\"\n",
        "print(\"Predicted Sentiment:\", predict_review_sentiment(model, vectorizer, test_review))\n"
      ],
      "metadata": {
        "id": "UIRKbpD8bz1z",
        "colab": {
          "base_uri": "https://localhost:8080/"
        },
        "outputId": "116a6396-93de-4853-9b3c-24453e9efebc"
      },
      "execution_count": 11,
      "outputs": [
        {
          "output_type": "stream",
          "name": "stdout",
          "text": [
            "Accuracy on test set: 0.50\n",
            "Predicted Sentiment: negative\n"
          ]
        }
      ]
    },
    {
      "cell_type": "markdown",
      "source": [
        "**Problem 5**"
      ],
      "metadata": {
        "id": "fExP0XoCrDJE"
      }
    },
    {
      "cell_type": "code",
      "source": [
        "import pandas as pd\n",
        "import numpy as np\n",
        "from sklearn.feature_extraction.text import TfidfVectorizer\n",
        "from sklearn.model_selection import train_test_split\n",
        "from sklearn.linear_model import LogisticRegression\n",
        "from sklearn.metrics import precision_score, recall_score, f1_score\n",
        "\n",
        "good_feedback = [\n",
        "    \"Excellent product!\", \"Very satisfied with the quality.\", \"Works perfectly.\",\n",
        "    \"Highly recommended.\", \"Top-notch experience.\", \"Superb item!\", \"Loved it.\",\n",
        "    \"Five stars!\", \"Amazing build quality.\", \"Reliable and durable.\",\n",
        "    \"Exceeded expectations.\", \"Value for money.\", \"Impressed with the performance.\",\n",
        "    \"Fast delivery and great quality.\", \"Will buy again.\", \"Terrific support.\",\n",
        "    \"Perfect for my needs.\", \"Product matches description.\", \"Really useful item.\",\n",
        "    \"Great purchase!\", \"Nice packaging.\", \"Well made product.\", \"Everything works fine.\",\n",
        "    \"Easy to use and effective.\", \"Fantastic service.\",\n",
        "    \"Solid construction.\", \"Product looks premium.\", \"I'm very happy.\",\n",
        "    \"Fits the purpose well.\", \"Good for everyday use.\", \"Clean design.\",\n",
        "    \"Quick and efficient.\", \"Definitely worth it.\", \"Great price.\",\n",
        "    \"Smooth and fast operation.\", \"Feels high-quality.\", \"No complaints at all.\",\n",
        "    \"Will recommend to others.\", \"Better than expected.\", \"It works like a charm.\",\n",
        "    \"Perfect condition.\", \"Trustworthy brand.\", \"Comfortable and functional.\",\n",
        "    \"Appreciate the good service.\", \"Very dependable.\", \"Delivered on time.\",\n",
        "    \"Positive experience overall.\", \"This is fantastic.\", \"Good job!\", \"Outstanding.\"\n",
        "]\n",
        "\n",
        "bad_feedback = [\n",
        "    \"Terrible product.\", \"Very disappointed.\", \"Stopped working quickly.\",\n",
        "    \"Not worth the money.\", \"Low quality material.\", \"Didn't meet expectations.\",\n",
        "    \"Waste of money.\", \"Won't buy again.\", \"Poor performance.\",\n",
        "    \"Item arrived broken.\", \"Cheap construction.\", \"Very unreliable.\",\n",
        "    \"Feels flimsy.\", \"Doesn't match description.\", \"Horrible experience.\",\n",
        "    \"Wouldn't recommend.\", \"Extremely dissatisfied.\", \"Terrible support.\",\n",
        "    \"Useless item.\", \"Arrived late.\", \"Bad customer service.\",\n",
        "    \"Doesn't work at all.\", \"Incomplete package.\", \"Frustrating to use.\",\n",
        "    \"Totally ineffective.\", \"Not what I expected.\", \"Wrong item received.\",\n",
        "    \"Lacks important features.\", \"Regret buying this.\", \"Terrible fit.\",\n",
        "    \"Very confusing.\", \"Overpriced for quality.\", \"Malfunctioned soon.\",\n",
        "    \"Doesn't hold up.\", \"Really bad finish.\", \"Product is defective.\",\n",
        "    \"Looks cheap.\", \"Packaging was terrible.\", \"Too noisy.\",\n",
        "    \"Not comfortable to use.\", \"Support was unhelpful.\", \"Too slow.\",\n",
        "    \"Very bad experience.\", \"Didn't live up to the hype.\",\n",
        "    \"Bad smell from the product.\", \"Stopped working after a week.\",\n",
        "    \"Battery life is poor.\", \"Really disappointing.\", \"Avoid this product.\", \"Waste.\"\n",
        "]\n",
        "\n",
        "good_feedback = good_feedback[:50]\n",
        "bad_feedback = bad_feedback[:50]\n",
        "texts = good_feedback + bad_feedback\n",
        "labels = ['good'] * 50 + ['bad'] * 50\n",
        "data = pd.DataFrame({'Text': texts, 'Label': labels})\n",
        "\n",
        "vectorizer = TfidfVectorizer(max_features=300, lowercase=True, stop_words='english')\n",
        "X = vectorizer.fit_transform(data['Text'])\n",
        "y = data['Label']\n",
        "\n",
        "X_train, X_test, y_train, y_test = train_test_split(X, y, test_size=0.25, random_state=42)\n",
        "\n",
        "model = LogisticRegression()\n",
        "model.fit(X_train, y_train)\n",
        "y_pred = model.predict(X_test)\n",
        "\n",
        "precision = precision_score(y_test, y_pred, pos_label='good')\n",
        "recall = recall_score(y_test, y_pred, pos_label='good')\n",
        "f1 = f1_score(y_test, y_pred, pos_label='good')\n",
        "\n",
        "print(\"Precision:\", round(precision, 2))\n",
        "print(\"Recall:\", round(recall, 2))\n",
        "print(\"F1 Score:\", round(f1, 2))\n",
        "\n",
        "def text_preprocess_vectorize(texts, vectorizer):\n",
        "    \"\"\"\n",
        "    Takes a list of text samples and a fitted TfidfVectorizer,\n",
        "    returns the vectorized feature matrix.\n",
        "    \"\"\"\n",
        "    return vectorizer.transform(texts)\n",
        "\n",
        "sample_texts = [\"This item is amazing!\", \"Very poor quality.\"]\n",
        "vectorized_samples = text_preprocess_vectorize(sample_texts, vectorizer)\n",
        "predictions = model.predict(vectorized_samples)\n",
        "print(\"\\nPredictions for sample texts:\", predictions)\n"
      ],
      "metadata": {
        "colab": {
          "base_uri": "https://localhost:8080/"
        },
        "id": "WA8BIBEcp8tJ",
        "outputId": "93e7d1ba-7e4c-432d-d8c7-819d22a390ba"
      },
      "execution_count": 12,
      "outputs": [
        {
          "output_type": "stream",
          "name": "stdout",
          "text": [
            "Precision: 0.6\n",
            "Recall: 0.21\n",
            "F1 Score: 0.32\n",
            "\n",
            "Predictions for sample texts: ['good' 'bad']\n"
          ]
        }
      ]
    },
    {
      "cell_type": "code",
      "source": [],
      "metadata": {
        "id": "8MaUJzZRrT-C"
      },
      "execution_count": null,
      "outputs": []
    }
  ]
}